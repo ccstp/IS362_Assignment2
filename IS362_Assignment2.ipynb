{
 "cells": [
  {
   "cell_type": "markdown",
   "id": "694ab1f5",
   "metadata": {},
   "source": [
    "# Set Comprehensions\n",
    "\n",
    "Sets are a type of data structure in Python. \n",
    "\n",
    "> A set is an unordered collection with no duplicate elements. Basic uses include membership testing and eliminating duplicate entries. Set objects also support mathematical operations like union, intersection, difference, and symmetric difference.\n",
    ">\n",
    "> [Python Software Foundation](https://docs.python.org/3/tutorial/datastructures.html)\n",
    "\n",
    "Set comprehension is a concise method for creating sets from other iterables. \n",
    "\n",
    "Below are examples of how set comprehension can be used."
   ]
  },
  {
   "cell_type": "markdown",
   "id": "8d97803f",
   "metadata": {},
   "source": [
    "### Create a set from a list "
   ]
  },
  {
   "cell_type": "code",
   "execution_count": 1,
   "id": "51829d68",
   "metadata": {},
   "outputs": [
    {
     "name": "stdout",
     "output_type": "stream",
     "text": [
      "This is my list of numbers:\n",
      "[7493945, 417203, 13760234, 333525, 4337229, 10443792, 4654320, 11716264]\n",
      "These are the numbers divisable by 2:\n",
      "{10443792, 4654320, 13760234, 11716264}\n"
     ]
    }
   ],
   "source": [
    "numList = [7493945, 417203, 13760234, 333525, 4337229, 10443792, 4654320, 11716264]\n",
    "numSet = {i for i in numList if i % 2 == 0}\n",
    "print(\"This is my list of numbers:\")\n",
    "print(numList)\n",
    "print(\"These are the numbers divisable by 2:\")\n",
    "print(numSet)"
   ]
  },
  {
   "cell_type": "markdown",
   "id": "d9ced409",
   "metadata": {},
   "source": [
    "### Create a set from an existing set"
   ]
  },
  {
   "cell_type": "code",
   "execution_count": 2,
   "id": "ae6f4434",
   "metadata": {},
   "outputs": [
    {
     "name": "stdout",
     "output_type": "stream",
     "text": [
      "This is the set of numbers divisible by 2:\n",
      "{10443792, 4654320, 13760234, 11716264}\n",
      "This is a set created by multiplying the previous set by 5:\n",
      "{52218960, 68801170, 58581320, 23271600}\n"
     ]
    }
   ],
   "source": [
    "newSet = {i*5 for i in numSet}\n",
    "print(\"This is the set of numbers divisible by 2:\")\n",
    "print(numSet)\n",
    "print(\"This is a set created by multiplying the previous set by 5:\")\n",
    "print(newSet)"
   ]
  },
  {
   "cell_type": "markdown",
   "id": "a69c5aa0",
   "metadata": {},
   "source": [
    "### Change the data type of elements in an existing set"
   ]
  },
  {
   "cell_type": "code",
   "execution_count": 3,
   "id": "a7fb0eaa",
   "metadata": {},
   "outputs": [
    {
     "name": "stdout",
     "output_type": "stream",
     "text": [
      "This is the previously modified set:\n",
      "{52218960, 68801170, 58581320, 23271600}\n",
      "This is now a set of strings:\n",
      "{'68801170', '23271600', '52218960', '58581320'}\n"
     ]
    }
   ],
   "source": [
    "strSet={str(i) for i in newSet}\n",
    "print(\"This is the previously modified set:\")\n",
    "print(newSet)\n",
    "print(\"This is now a set of strings:\")\n",
    "print(strSet)"
   ]
  }
 ],
 "metadata": {
  "kernelspec": {
   "display_name": "Python 3 (ipykernel)",
   "language": "python",
   "name": "python3"
  },
  "language_info": {
   "codemirror_mode": {
    "name": "ipython",
    "version": 3
   },
   "file_extension": ".py",
   "mimetype": "text/x-python",
   "name": "python",
   "nbconvert_exporter": "python",
   "pygments_lexer": "ipython3",
   "version": "3.9.7"
  }
 },
 "nbformat": 4,
 "nbformat_minor": 5
}
